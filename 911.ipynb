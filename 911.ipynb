{
 "cells": [
  {
   "cell_type": "code",
   "execution_count": 40,
   "metadata": {},
   "outputs": [],
   "source": [
    "import pandas as pd"
   ]
  },
  {
   "cell_type": "code",
   "execution_count": 41,
   "metadata": {},
   "outputs": [],
   "source": [
    "import numpy as np"
   ]
  },
  {
   "cell_type": "code",
   "execution_count": 42,
   "metadata": {},
   "outputs": [],
   "source": [
    "import seaborn as sns"
   ]
  },
  {
   "cell_type": "code",
   "execution_count": 43,
   "metadata": {},
   "outputs": [],
   "source": [
    "import matplotlib.pyplot as plt"
   ]
  },
  {
   "cell_type": "code",
   "execution_count": 44,
   "metadata": {},
   "outputs": [],
   "source": [
    "sns.set()"
   ]
  },
  {
   "cell_type": "code",
   "execution_count": 45,
   "metadata": {},
   "outputs": [],
   "source": [
    "data=pd.read_csv('911.csv')"
   ]
  },
  {
   "cell_type": "code",
   "execution_count": 46,
   "metadata": {},
   "outputs": [
    {
     "data": {
      "text/html": [
       "<div>\n",
       "<style scoped>\n",
       "    .dataframe tbody tr th:only-of-type {\n",
       "        vertical-align: middle;\n",
       "    }\n",
       "\n",
       "    .dataframe tbody tr th {\n",
       "        vertical-align: top;\n",
       "    }\n",
       "\n",
       "    .dataframe thead th {\n",
       "        text-align: right;\n",
       "    }\n",
       "</style>\n",
       "<table border=\"1\" class=\"dataframe\">\n",
       "  <thead>\n",
       "    <tr style=\"text-align: right;\">\n",
       "      <th></th>\n",
       "      <th>lat</th>\n",
       "      <th>lng</th>\n",
       "      <th>desc</th>\n",
       "      <th>zip</th>\n",
       "      <th>title</th>\n",
       "      <th>timeStamp</th>\n",
       "      <th>twp</th>\n",
       "      <th>addr</th>\n",
       "      <th>e</th>\n",
       "    </tr>\n",
       "  </thead>\n",
       "  <tbody>\n",
       "    <tr>\n",
       "      <th>0</th>\n",
       "      <td>40.297876</td>\n",
       "      <td>-75.581294</td>\n",
       "      <td>REINDEER CT &amp; DEAD END;  NEW HANOVER; Station ...</td>\n",
       "      <td>19525.0</td>\n",
       "      <td>EMS: BACK PAINS/INJURY</td>\n",
       "      <td>2015-12-10 17:10:52</td>\n",
       "      <td>NEW HANOVER</td>\n",
       "      <td>REINDEER CT &amp; DEAD END</td>\n",
       "      <td>1</td>\n",
       "    </tr>\n",
       "    <tr>\n",
       "      <th>1</th>\n",
       "      <td>40.258061</td>\n",
       "      <td>-75.264680</td>\n",
       "      <td>BRIAR PATH &amp; WHITEMARSH LN;  HATFIELD TOWNSHIP...</td>\n",
       "      <td>19446.0</td>\n",
       "      <td>EMS: DIABETIC EMERGENCY</td>\n",
       "      <td>2015-12-10 17:29:21</td>\n",
       "      <td>HATFIELD TOWNSHIP</td>\n",
       "      <td>BRIAR PATH &amp; WHITEMARSH LN</td>\n",
       "      <td>1</td>\n",
       "    </tr>\n",
       "    <tr>\n",
       "      <th>2</th>\n",
       "      <td>40.121182</td>\n",
       "      <td>-75.351975</td>\n",
       "      <td>HAWS AVE; NORRISTOWN; 2015-12-10 @ 14:39:21-St...</td>\n",
       "      <td>19401.0</td>\n",
       "      <td>Fire: GAS-ODOR/LEAK</td>\n",
       "      <td>2015-12-10 14:39:21</td>\n",
       "      <td>NORRISTOWN</td>\n",
       "      <td>HAWS AVE</td>\n",
       "      <td>1</td>\n",
       "    </tr>\n",
       "    <tr>\n",
       "      <th>3</th>\n",
       "      <td>40.116153</td>\n",
       "      <td>-75.343513</td>\n",
       "      <td>AIRY ST &amp; SWEDE ST;  NORRISTOWN; Station 308A;...</td>\n",
       "      <td>19401.0</td>\n",
       "      <td>EMS: CARDIAC EMERGENCY</td>\n",
       "      <td>2015-12-10 16:47:36</td>\n",
       "      <td>NORRISTOWN</td>\n",
       "      <td>AIRY ST &amp; SWEDE ST</td>\n",
       "      <td>1</td>\n",
       "    </tr>\n",
       "    <tr>\n",
       "      <th>4</th>\n",
       "      <td>40.251492</td>\n",
       "      <td>-75.603350</td>\n",
       "      <td>CHERRYWOOD CT &amp; DEAD END;  LOWER POTTSGROVE; S...</td>\n",
       "      <td>NaN</td>\n",
       "      <td>EMS: DIZZINESS</td>\n",
       "      <td>2015-12-10 16:56:52</td>\n",
       "      <td>LOWER POTTSGROVE</td>\n",
       "      <td>CHERRYWOOD CT &amp; DEAD END</td>\n",
       "      <td>1</td>\n",
       "    </tr>\n",
       "  </tbody>\n",
       "</table>\n",
       "</div>"
      ],
      "text/plain": [
       "         lat        lng                                               desc  \\\n",
       "0  40.297876 -75.581294  REINDEER CT & DEAD END;  NEW HANOVER; Station ...   \n",
       "1  40.258061 -75.264680  BRIAR PATH & WHITEMARSH LN;  HATFIELD TOWNSHIP...   \n",
       "2  40.121182 -75.351975  HAWS AVE; NORRISTOWN; 2015-12-10 @ 14:39:21-St...   \n",
       "3  40.116153 -75.343513  AIRY ST & SWEDE ST;  NORRISTOWN; Station 308A;...   \n",
       "4  40.251492 -75.603350  CHERRYWOOD CT & DEAD END;  LOWER POTTSGROVE; S...   \n",
       "\n",
       "       zip                    title            timeStamp                twp  \\\n",
       "0  19525.0   EMS: BACK PAINS/INJURY  2015-12-10 17:10:52        NEW HANOVER   \n",
       "1  19446.0  EMS: DIABETIC EMERGENCY  2015-12-10 17:29:21  HATFIELD TOWNSHIP   \n",
       "2  19401.0      Fire: GAS-ODOR/LEAK  2015-12-10 14:39:21         NORRISTOWN   \n",
       "3  19401.0   EMS: CARDIAC EMERGENCY  2015-12-10 16:47:36         NORRISTOWN   \n",
       "4      NaN           EMS: DIZZINESS  2015-12-10 16:56:52   LOWER POTTSGROVE   \n",
       "\n",
       "                         addr  e  \n",
       "0      REINDEER CT & DEAD END  1  \n",
       "1  BRIAR PATH & WHITEMARSH LN  1  \n",
       "2                    HAWS AVE  1  \n",
       "3          AIRY ST & SWEDE ST  1  \n",
       "4    CHERRYWOOD CT & DEAD END  1  "
      ]
     },
     "execution_count": 46,
     "metadata": {},
     "output_type": "execute_result"
    }
   ],
   "source": [
    "data.head()"
   ]
  },
  {
   "cell_type": "code",
   "execution_count": 47,
   "metadata": {},
   "outputs": [
    {
     "data": {
      "text/plain": [
       "(423909, 9)"
      ]
     },
     "execution_count": 47,
     "metadata": {},
     "output_type": "execute_result"
    }
   ],
   "source": [
    "data.shape"
   ]
  },
  {
   "cell_type": "code",
   "execution_count": 48,
   "metadata": {},
   "outputs": [
    {
     "data": {
      "text/plain": [
       "<bound method DataFrame.info of               lat        lng  \\\n",
       "0       40.297876 -75.581294   \n",
       "1       40.258061 -75.264680   \n",
       "2       40.121182 -75.351975   \n",
       "3       40.116153 -75.343513   \n",
       "4       40.251492 -75.603350   \n",
       "5       40.253473 -75.283245   \n",
       "6       40.182111 -75.127795   \n",
       "7       40.217286 -75.405182   \n",
       "8       40.289027 -75.399590   \n",
       "9       40.102398 -75.291458   \n",
       "10      40.231990 -75.251891   \n",
       "11      40.084161 -75.308386   \n",
       "12      40.174131 -75.098491   \n",
       "13      40.062974 -75.135914   \n",
       "14      40.097222 -75.376195   \n",
       "15      40.223778 -75.235399   \n",
       "16      40.243258 -75.286552   \n",
       "17      40.312181 -75.574260   \n",
       "18      40.114239 -75.338508   \n",
       "19      40.209337 -75.135266   \n",
       "20      40.114239 -75.338508   \n",
       "21      40.117948 -75.209848   \n",
       "22      40.199006 -75.300058   \n",
       "23      40.143326 -75.422819   \n",
       "24      40.153268 -75.189558   \n",
       "25      40.133037 -75.408463   \n",
       "26      40.155283 -75.264230   \n",
       "27      40.028903 -75.351822   \n",
       "28      40.097222 -75.376195   \n",
       "29      40.209337 -75.135266   \n",
       "...           ...        ...   \n",
       "423879  40.284894 -75.583070   \n",
       "423880  40.089043 -75.154857   \n",
       "423881  40.188195 -75.195506   \n",
       "423882  40.188195 -75.195506   \n",
       "423883  40.175671 -75.125148   \n",
       "423884  40.277468 -75.260462   \n",
       "423885  40.345292 -75.509276   \n",
       "423886  40.260591 -75.503238   \n",
       "423887  40.136020 -75.354606   \n",
       "423888  40.230934 -75.522125   \n",
       "423889  40.150675 -75.132652   \n",
       "423890  40.335354 -75.511268   \n",
       "423891  40.150675 -75.132652   \n",
       "423892  40.107400 -75.113206   \n",
       "423893  40.256628 -75.261270   \n",
       "423894  40.183361 -75.542285   \n",
       "423895  40.184797 -75.286879   \n",
       "423896  40.254344 -75.407617   \n",
       "423897  40.149952 -75.134537   \n",
       "423898  40.142797 -75.495065   \n",
       "423899  40.149952 -75.134537   \n",
       "423900  40.157913 -75.203632   \n",
       "423901  40.133037 -75.408463   \n",
       "423902  40.271663 -75.238440   \n",
       "423903  40.235373 -75.224751   \n",
       "423904  40.139993 -75.049864   \n",
       "423905  40.270121 -75.382825   \n",
       "423906  40.270121 -75.382825   \n",
       "423907  40.190946 -75.237285   \n",
       "423908  40.155164 -75.264665   \n",
       "\n",
       "                                                     desc      zip  \\\n",
       "0       REINDEER CT & DEAD END;  NEW HANOVER; Station ...  19525.0   \n",
       "1       BRIAR PATH & WHITEMARSH LN;  HATFIELD TOWNSHIP...  19446.0   \n",
       "2       HAWS AVE; NORRISTOWN; 2015-12-10 @ 14:39:21-St...  19401.0   \n",
       "3       AIRY ST & SWEDE ST;  NORRISTOWN; Station 308A;...  19401.0   \n",
       "4       CHERRYWOOD CT & DEAD END;  LOWER POTTSGROVE; S...      NaN   \n",
       "5       CANNON AVE & W 9TH ST;  LANSDALE; Station 345;...  19446.0   \n",
       "6       LAUREL AVE & OAKDALE AVE;  HORSHAM; Station 35...  19044.0   \n",
       "7       COLLEGEVILLE RD & LYWISKI RD;  SKIPPACK; Stati...  19426.0   \n",
       "8       MAIN ST & OLD SUMNEYTOWN PIKE;  LOWER SALFORD;...  19438.0   \n",
       "9       BLUEROUTE  & RAMP I476 NB TO CHEMICAL RD; PLYM...  19462.0   \n",
       "10      RT202 PKWY & KNAPP RD; MONTGOMERY; 2015-12-10 ...      NaN   \n",
       "11      BROOK RD & COLWELL LN; PLYMOUTH; 2015-12-10 @ ...  19428.0   \n",
       "12      BYBERRY AVE & S WARMINSTER RD; UPPER MORELAND;...  19040.0   \n",
       "13      OLD YORK RD & VALLEY RD; CHELTENHAM; 2015-12-1...  19027.0   \n",
       "14      SCHUYLKILL EXPY & CROTON RD UNDERPASS; UPPER M...      NaN   \n",
       "15      STUMP RD & WITCHWOOD DR; MONTGOMERY; 2015-12-1...  18936.0   \n",
       "16      SUSQUEHANNA AVE & W MAIN ST;  LANSDALE; Statio...  19446.0   \n",
       "17      CHARLOTTE ST & MILES RD;  NEW HANOVER; Station...  19525.0   \n",
       "18      PENN ST & ARCH ST;  NORRISTOWN; Station 308A; ...  19401.0   \n",
       "19      COUNTY LINE RD & WILLOW DR; HORSHAM; 2015-12-1...  18974.0   \n",
       "20      PENN ST & ARCH ST; NORRISTOWN; 2015-12-10 @ 17...  19401.0   \n",
       "21      CHURCH RD & REDCOAT DR; WHITEMARSH; 2015-12-10...  19031.0   \n",
       "22      LILAC CT & PRIMROSE DR; UPPER GWYNEDD; 2015-12...  19446.0   \n",
       "23      RT422  & PAWLINGS RD OVERPASS; LOWER PROVIDENC...      NaN   \n",
       "24      SUMMIT AVE & RT309 UNDERPASS; UPPER DUBLIN; 20...      NaN   \n",
       "25      SHANNONDELL DR & SHANNONDELL BLVD;  LOWER PROV...  19403.0   \n",
       "26      PENLLYN BLUE BELL PIKE & VILLAGE CIR;  WHITPAI...  19422.0   \n",
       "27      EDENTON PL & DURHAM DR; DELAWARE COUNTY; 2015-...  19085.0   \n",
       "28      SCHUYLKILL EXPY & WEADLEY RD OVERPASS; UPPER M...      NaN   \n",
       "29      COUNTY LINE RD & WILLOW DR; HORSHAM; 2015-12-1...  18974.0   \n",
       "...                                                   ...      ...   \n",
       "423879  BUCHERT RD & ROMIG RD; NEW HANOVER; 2018-11-16...  19525.0   \n",
       "423880  RICES MILL RD & W CHURCH RD; CHELTENHAM; 2018-...  19095.0   \n",
       "423881  TENNIS AVE & WELSH RD; HORSHAM; 2018-11-16 @ 0...  19002.0   \n",
       "423882  WELSH RD & TENNIS AVE; UPPER DUBLIN; 2018-11-1...  19002.0   \n",
       "423883  SUMMIT AVE & RUTH AVE;  HORSHAM; Station 352; ...  19044.0   \n",
       "423884  BETHLEHEM PIKE & TREWIGTOWN RD; HATFIELD TOWNS...  19440.0   \n",
       "423885  HENNING RD & HILL RD; NEW HANOVER; 2018-11-16 ...  18054.0   \n",
       "423886  YERGER RD & N RYANFORD RD; LOWER FREDERICK; 20...  19473.0   \n",
       "423887  BEECH DR & SPRUCE ST;  WEST NORRITON; Station ...  19403.0   \n",
       "423888  LIGHTCAP RD & SANATOGA SPRINGS DR; LIMERICK; 2...  19468.0   \n",
       "423889  MORELAND RD & BARTRAM RD; UPPER MORELAND; 2018...  19090.0   \n",
       "423890  HENNING RD; NEW HANOVER; 2018-11-16 @ 08:45:04...  18074.0   \n",
       "423891  MORELAND RD & BARTRAM RD; UPPER MORELAND; 2018...  19090.0   \n",
       "423892  THE FAIRWAY  & RYDAL RD; ABINGTON; 2018-11-16 ...  19046.0   \n",
       "423893  LINE ST & COWPATH RD; HATFIELD TOWNSHIP; 2018-...  19446.0   \n",
       "423894  MAIN ST & 2ND AVE;  ROYERSFORD; Station 325; 2...  19468.0   \n",
       "423895  TWIN SILO DR & MORRIS RD;  WHITPAIN; Station 3...  19422.0   \n",
       "423896   HOFFMAN  ; UPPER SALFORD; 2018-11-16 @ 08:46:25;      NaN   \n",
       "423897  W MORELAND RD & KIMBALL AVE; UPPER DUBLIN; 201...  19090.0   \n",
       "423898  MAC DADE RD & SCARLET OAK DR; UPPER PROVIDENCE...  19460.0   \n",
       "423899  W MORELAND RD & KIMBALL AVE; UPPER DUBLIN; 201...  19090.0   \n",
       "423900          HOFFMAN  ; AMBLER; 2018-11-16 @ 08:46:25;  19002.0   \n",
       "423901  SHANNONDELL DR & SHANNONDELL BLVD;  LOWER PROV...  19403.0   \n",
       "423902  RICHARDSON RD & COUNTY LINE RD; MONTGOMERY; 20...  18914.0   \n",
       "423903  HORSHAM RD & STUMP RD; MONTGOMERY; 2018-11-16 ...  19454.0   \n",
       "423904  BUCK RD & WOODWARD DR; LOWER MORELAND; 2018-11...  19006.0   \n",
       "423905  OAK DR & MOYER RD; LOWER SALFORD; 2018-11-16 @...  19438.0   \n",
       "423906  OAK DR & MOYER RD; LOWER SALFORD; 2018-11-16 @...  19438.0   \n",
       "423907  SUMNEYTOWN PIKE & WELLINGTON DR; LOWER GWYNEDD...  19002.0   \n",
       "423908   HOFFMAN  ; LOWER GWYNEDD; 2018-11-16 @ 08:46:25;  19422.0   \n",
       "\n",
       "                                 title            timeStamp  \\\n",
       "0               EMS: BACK PAINS/INJURY  2015-12-10 17:10:52   \n",
       "1              EMS: DIABETIC EMERGENCY  2015-12-10 17:29:21   \n",
       "2                  Fire: GAS-ODOR/LEAK  2015-12-10 14:39:21   \n",
       "3               EMS: CARDIAC EMERGENCY  2015-12-10 16:47:36   \n",
       "4                       EMS: DIZZINESS  2015-12-10 16:56:52   \n",
       "5                     EMS: HEAD INJURY  2015-12-10 15:39:04   \n",
       "6                 EMS: NAUSEA/VOMITING  2015-12-10 16:46:48   \n",
       "7           EMS: RESPIRATORY EMERGENCY  2015-12-10 16:17:05   \n",
       "8                EMS: SYNCOPAL EPISODE  2015-12-10 16:51:42   \n",
       "9          Traffic: VEHICLE ACCIDENT -  2015-12-10 17:35:41   \n",
       "10         Traffic: VEHICLE ACCIDENT -  2015-12-10 17:33:50   \n",
       "11         Traffic: VEHICLE ACCIDENT -  2015-12-10 16:32:10   \n",
       "12         Traffic: VEHICLE ACCIDENT -  2015-12-10 17:15:49   \n",
       "13         Traffic: VEHICLE ACCIDENT -  2015-12-10 17:12:47   \n",
       "14         Traffic: VEHICLE ACCIDENT -  2015-12-10 17:09:49   \n",
       "15         Traffic: VEHICLE ACCIDENT -  2015-12-10 17:31:00   \n",
       "16          EMS: RESPIRATORY EMERGENCY  2015-12-10 17:42:44   \n",
       "17                      EMS: DIZZINESS  2015-12-10 17:41:54   \n",
       "18               EMS: VEHICLE ACCIDENT  2015-12-10 17:43:29   \n",
       "19         Traffic: DISABLED VEHICLE -  2015-12-10 17:45:23   \n",
       "20         Traffic: VEHICLE ACCIDENT -  2015-12-10 17:43:45   \n",
       "21         Traffic: DISABLED VEHICLE -  2015-12-10 17:53:22   \n",
       "22                Fire: APPLIANCE FIRE  2015-12-10 17:59:24   \n",
       "23         Traffic: DISABLED VEHICLE -  2015-12-10 18:00:38   \n",
       "24         Traffic: VEHICLE ACCIDENT -  2015-12-10 17:58:22   \n",
       "25               EMS: GENERAL WEAKNESS  2015-12-10 18:02:02   \n",
       "26                    EMS: HEAD INJURY  2015-12-10 18:02:38   \n",
       "27      Fire: CARBON MONOXIDE DETECTOR  2015-12-10 18:05:19   \n",
       "28         Traffic: VEHICLE ACCIDENT -  2015-12-10 18:05:39   \n",
       "29         Traffic: DISABLED VEHICLE -  2015-12-10 18:10:40   \n",
       "...                                ...                  ...   \n",
       "423879     Traffic: DISABLED VEHICLE -  2018-11-16 08:18:15   \n",
       "423880     Traffic: ROAD OBSTRUCTION -  2018-11-16 08:18:08   \n",
       "423881     Traffic: VEHICLE ACCIDENT -  2018-11-16 08:17:59   \n",
       "423882     Traffic: VEHICLE ACCIDENT -  2018-11-16 08:14:32   \n",
       "423883            EMS: SUBJECT IN PAIN  2018-11-16 08:27:45   \n",
       "423884        Fire: FIRE INVESTIGATION  2018-11-16 08:30:54   \n",
       "423885     Traffic: DISABLED VEHICLE -  2018-11-16 08:29:22   \n",
       "423886     Traffic: DISABLED VEHICLE -  2018-11-16 08:30:00   \n",
       "423887                   EMS: SEIZURES  2018-11-16 08:39:28   \n",
       "423888                Fire: FIRE ALARM  2018-11-16 08:39:53   \n",
       "423889     Traffic: VEHICLE ACCIDENT -  2018-11-16 08:38:23   \n",
       "423890        Fire: FIRE POLICE NEEDED  2018-11-16 08:45:04   \n",
       "423891     Traffic: VEHICLE ACCIDENT -  2018-11-16 08:46:39   \n",
       "423892                Fire: FIRE ALARM  2018-11-16 08:49:48   \n",
       "423893        Fire: FIRE INVESTIGATION  2018-11-16 08:48:24   \n",
       "423894                EMS: FALL VICTIM  2018-11-16 08:50:58   \n",
       "423895           EMS: SYNCOPAL EPISODE  2018-11-16 08:47:05   \n",
       "423896     Traffic: DISABLED VEHICLE -  2018-11-16 08:46:25   \n",
       "423897     Traffic: VEHICLE ACCIDENT -  2018-11-16 08:46:39   \n",
       "423898     Traffic: DISABLED VEHICLE -  2018-11-16 08:43:42   \n",
       "423899     Traffic: VEHICLE ACCIDENT -  2018-11-16 08:38:23   \n",
       "423900     Traffic: DISABLED VEHICLE -  2018-11-16 08:46:25   \n",
       "423901        EMS: MEDICAL ALERT ALARM  2018-11-16 08:53:03   \n",
       "423902     Traffic: DISABLED VEHICLE -  2018-11-16 08:55:36   \n",
       "423903     Traffic: DISABLED VEHICLE -  2018-11-16 08:54:52   \n",
       "423904     Traffic: VEHICLE ACCIDENT -  2018-11-16 08:54:08   \n",
       "423905     Traffic: VEHICLE ACCIDENT -  2018-11-16 08:53:32   \n",
       "423906     Traffic: VEHICLE ACCIDENT -  2018-11-16 08:54:19   \n",
       "423907     Traffic: VEHICLE ACCIDENT -  2018-11-16 08:51:48   \n",
       "423908     Traffic: DISABLED VEHICLE -  2018-11-16 08:46:25   \n",
       "\n",
       "                      twp                                      addr  e  \n",
       "0             NEW HANOVER                    REINDEER CT & DEAD END  1  \n",
       "1       HATFIELD TOWNSHIP                BRIAR PATH & WHITEMARSH LN  1  \n",
       "2              NORRISTOWN                                  HAWS AVE  1  \n",
       "3              NORRISTOWN                        AIRY ST & SWEDE ST  1  \n",
       "4        LOWER POTTSGROVE                  CHERRYWOOD CT & DEAD END  1  \n",
       "5                LANSDALE                     CANNON AVE & W 9TH ST  1  \n",
       "6                 HORSHAM                  LAUREL AVE & OAKDALE AVE  1  \n",
       "7                SKIPPACK              COLLEGEVILLE RD & LYWISKI RD  1  \n",
       "8           LOWER SALFORD             MAIN ST & OLD SUMNEYTOWN PIKE  1  \n",
       "9                PLYMOUTH  BLUEROUTE  & RAMP I476 NB TO CHEMICAL RD  1  \n",
       "10             MONTGOMERY                     RT202 PKWY & KNAPP RD  1  \n",
       "11               PLYMOUTH                     BROOK RD & COLWELL LN  1  \n",
       "12         UPPER MORELAND             BYBERRY AVE & S WARMINSTER RD  1  \n",
       "13             CHELTENHAM                   OLD YORK RD & VALLEY RD  1  \n",
       "14           UPPER MERION     SCHUYLKILL EXPY & CROTON RD UNDERPASS  1  \n",
       "15             MONTGOMERY                   STUMP RD & WITCHWOOD DR  1  \n",
       "16               LANSDALE               SUSQUEHANNA AVE & W MAIN ST  1  \n",
       "17            NEW HANOVER                   CHARLOTTE ST & MILES RD  1  \n",
       "18             NORRISTOWN                         PENN ST & ARCH ST  1  \n",
       "19                HORSHAM                COUNTY LINE RD & WILLOW DR  1  \n",
       "20             NORRISTOWN                         PENN ST & ARCH ST  1  \n",
       "21             WHITEMARSH                    CHURCH RD & REDCOAT DR  1  \n",
       "22          UPPER GWYNEDD                    LILAC CT & PRIMROSE DR  1  \n",
       "23       LOWER PROVIDENCE             RT422  & PAWLINGS RD OVERPASS  1  \n",
       "24           UPPER DUBLIN              SUMMIT AVE & RT309 UNDERPASS  1  \n",
       "25       LOWER PROVIDENCE         SHANNONDELL DR & SHANNONDELL BLVD  1  \n",
       "26               WHITPAIN      PENLLYN BLUE BELL PIKE & VILLAGE CIR  1  \n",
       "27        DELAWARE COUNTY                    EDENTON PL & DURHAM DR  1  \n",
       "28           UPPER MERION     SCHUYLKILL EXPY & WEADLEY RD OVERPASS  1  \n",
       "29                HORSHAM                COUNTY LINE RD & WILLOW DR  1  \n",
       "...                   ...                                       ... ..  \n",
       "423879        NEW HANOVER                     BUCHERT RD & ROMIG RD  1  \n",
       "423880         CHELTENHAM               RICES MILL RD & W CHURCH RD  1  \n",
       "423881            HORSHAM                     TENNIS AVE & WELSH RD  1  \n",
       "423882       UPPER DUBLIN                     WELSH RD & TENNIS AVE  1  \n",
       "423883            HORSHAM                     SUMMIT AVE & RUTH AVE  1  \n",
       "423884  HATFIELD TOWNSHIP            BETHLEHEM PIKE & TREWIGTOWN RD  1  \n",
       "423885        NEW HANOVER                      HENNING RD & HILL RD  1  \n",
       "423886    LOWER FREDERICK                 YERGER RD & N RYANFORD RD  1  \n",
       "423887      WEST NORRITON                      BEECH DR & SPRUCE ST  1  \n",
       "423888           LIMERICK         LIGHTCAP RD & SANATOGA SPRINGS DR  1  \n",
       "423889     UPPER MORELAND                  MORELAND RD & BARTRAM RD  1  \n",
       "423890        NEW HANOVER                                HENNING RD  1  \n",
       "423891     UPPER MORELAND                  MORELAND RD & BARTRAM RD  1  \n",
       "423892           ABINGTON                   THE FAIRWAY  & RYDAL RD  1  \n",
       "423893  HATFIELD TOWNSHIP                      LINE ST & COWPATH RD  1  \n",
       "423894         ROYERSFORD                         MAIN ST & 2ND AVE  1  \n",
       "423895           WHITPAIN                  TWIN SILO DR & MORRIS RD  1  \n",
       "423896      UPPER SALFORD                                   HOFFMAN  1  \n",
       "423897       UPPER DUBLIN               W MORELAND RD & KIMBALL AVE  1  \n",
       "423898   UPPER PROVIDENCE              MAC DADE RD & SCARLET OAK DR  1  \n",
       "423899       UPPER DUBLIN               W MORELAND RD & KIMBALL AVE  1  \n",
       "423900             AMBLER                                   HOFFMAN  1  \n",
       "423901   LOWER PROVIDENCE         SHANNONDELL DR & SHANNONDELL BLVD  1  \n",
       "423902         MONTGOMERY            RICHARDSON RD & COUNTY LINE RD  1  \n",
       "423903         MONTGOMERY                     HORSHAM RD & STUMP RD  1  \n",
       "423904     LOWER MORELAND                     BUCK RD & WOODWARD DR  1  \n",
       "423905      LOWER SALFORD                         OAK DR & MOYER RD  1  \n",
       "423906      LOWER SALFORD                         OAK DR & MOYER RD  1  \n",
       "423907      LOWER GWYNEDD           SUMNEYTOWN PIKE & WELLINGTON DR  1  \n",
       "423908      LOWER GWYNEDD                                   HOFFMAN  1  \n",
       "\n",
       "[423909 rows x 9 columns]>"
      ]
     },
     "execution_count": 48,
     "metadata": {},
     "output_type": "execute_result"
    }
   ],
   "source": [
    "data.info"
   ]
  },
  {
   "cell_type": "code",
   "execution_count": 49,
   "metadata": {},
   "outputs": [
    {
     "data": {
      "text/plain": [
       "Index(['lat', 'lng', 'desc', 'zip', 'title', 'timeStamp', 'twp', 'addr', 'e'], dtype='object')"
      ]
     },
     "execution_count": 49,
     "metadata": {},
     "output_type": "execute_result"
    }
   ],
   "source": [
    "data.columns"
   ]
  },
  {
   "cell_type": "code",
   "execution_count": 50,
   "metadata": {},
   "outputs": [
    {
     "data": {
      "text/plain": [
       "0     EMS: BACK PAINS/INJURY\n",
       "1    EMS: DIABETIC EMERGENCY\n",
       "2        Fire: GAS-ODOR/LEAK\n",
       "3     EMS: CARDIAC EMERGENCY\n",
       "4             EMS: DIZZINESS\n",
       "Name: title, dtype: object"
      ]
     },
     "execution_count": 50,
     "metadata": {},
     "output_type": "execute_result"
    }
   ],
   "source": [
    "data['title'].head()"
   ]
  },
  {
   "cell_type": "code",
   "execution_count": 51,
   "metadata": {},
   "outputs": [
    {
     "data": {
      "text/plain": [
       "array(['EMS: BACK PAINS/INJURY', 'EMS: DIABETIC EMERGENCY',\n",
       "       'Fire: GAS-ODOR/LEAK', 'EMS: CARDIAC EMERGENCY', 'EMS: DIZZINESS',\n",
       "       'EMS: HEAD INJURY', 'EMS: NAUSEA/VOMITING',\n",
       "       'EMS: RESPIRATORY EMERGENCY', 'EMS: SYNCOPAL EPISODE',\n",
       "       'Traffic: VEHICLE ACCIDENT -', 'EMS: VEHICLE ACCIDENT',\n",
       "       'Traffic: DISABLED VEHICLE -', 'Fire: APPLIANCE FIRE',\n",
       "       'EMS: GENERAL WEAKNESS', 'Fire: CARBON MONOXIDE DETECTOR',\n",
       "       'EMS: UNKNOWN MEDICAL EMERGENCY', 'EMS: UNRESPONSIVE SUBJECT',\n",
       "       'Fire: VEHICLE ACCIDENT', 'EMS: ALTERED MENTAL STATUS',\n",
       "       'Fire: FIRE ALARM', 'EMS: CVA/STROKE',\n",
       "       'Traffic: ROAD OBSTRUCTION -', 'EMS: SUBJECT IN PAIN',\n",
       "       'EMS: HEMORRHAGING', 'EMS: FALL VICTIM', 'EMS: ASSAULT VICTIM',\n",
       "       'EMS: SEIZURES', 'EMS: MEDICAL ALERT ALARM',\n",
       "       'EMS: ABDOMINAL PAINS', 'Fire: PUMP DETAIL',\n",
       "       'Fire: FIRE INVESTIGATION', 'EMS: OVERDOSE', 'EMS: MATERNITY',\n",
       "       'EMS: UNCONSCIOUS SUBJECT', 'EMS: CHOKING', 'EMS: LACERATIONS',\n",
       "       'Fire: TRASH/DUMPSTER FIRE', 'Fire: UNKNOWN TYPE FIRE',\n",
       "       'Fire: BUILDING FIRE', 'Fire: ELECTRICAL FIRE OUTSIDE',\n",
       "       'Fire: DEBRIS/FLUIDS ON HIGHWAY',\n",
       "       'Traffic: DEBRIS/FLUIDS ON HIGHWAY -', 'EMS: FEVER',\n",
       "       'EMS: ALLERGIC REACTION', 'Traffic: VEHICLE LEAKING FUEL -',\n",
       "       'EMS: FRACTURE', 'Fire: BURN VICTIM', 'EMS: BURN VICTIM',\n",
       "       'Fire: RESCUE - GENERAL', 'Fire: WOODS/FIELD FIRE',\n",
       "       'EMS: RESCUE - GENERAL', 'Fire: FIRE SPECIAL SERVICE',\n",
       "       'Fire: VEHICLE FIRE', 'Traffic: VEHICLE FIRE -',\n",
       "       'EMS: WARRANT SERVICE', 'Fire: S/B AT HELICOPTER LANDING',\n",
       "       'EMS: EMS SPECIAL SERVICE', 'Traffic: HAZARDOUS ROAD CONDITIONS -',\n",
       "       'Fire: RESCUE - ELEVATOR', 'EMS: FIRE SPECIAL SERVICE',\n",
       "       'EMS: DEHYDRATION', 'EMS: CARBON MONOXIDE DETECTOR',\n",
       "       'EMS: BUILDING FIRE', 'EMS: APPLIANCE FIRE', 'EMS: SHOOTING',\n",
       "       'EMS: POISONING', 'Fire: TRANSFERRED CALL',\n",
       "       'Fire: RESCUE - TECHNICAL', 'EMS: RESCUE - TECHNICAL',\n",
       "       'Fire: VEHICLE LEAKING FUEL', 'EMS: EYE INJURY',\n",
       "       'EMS: ELECTROCUTION', 'EMS: STABBING', 'Fire: FIRE POLICE NEEDED',\n",
       "       'EMS: AMPUTATION', 'EMS: ANIMAL BITE', 'EMS: FIRE ALARM',\n",
       "       'EMS: VEHICLE FIRE', 'EMS: HAZARDOUS MATERIALS INCIDENT',\n",
       "       'EMS: RESCUE - ELEVATOR', 'EMS: FIRE INVESTIGATION',\n",
       "       'Fire: MEDICAL ALERT ALARM', 'EMS: UNKNOWN TYPE FIRE',\n",
       "       'EMS: GAS-ODOR/LEAK', 'Fire: TRAIN CRASH',\n",
       "       'Fire: HAZARDOUS MATERIALS INCIDENT', 'EMS: TRANSFERRED CALL',\n",
       "       'EMS: TRAIN CRASH', 'EMS: RESCUE - WATER',\n",
       "       'EMS: S/B AT HELICOPTER LANDING',\n",
       "       'Fire: UNKNOWN MEDICAL EMERGENCY', 'Fire: RESCUE - WATER',\n",
       "       'EMS: CARDIAC ARREST', 'EMS: PLANE CRASH', 'Fire: PLANE CRASH',\n",
       "       'EMS: WOODS/FIELD FIRE', 'Fire: CARDIAC ARREST',\n",
       "       'Fire: EMS SPECIAL SERVICE', 'Fire: UNCONSCIOUS SUBJECT',\n",
       "       'EMS: HEAT EXHAUSTION', 'EMS: DEBRIS/FLUIDS ON HIGHWAY',\n",
       "       'EMS: ACTIVE SHOOTER', 'EMS: DISABLED VEHICLE',\n",
       "       'Fire: POLICE INFORMATION', 'Fire: DIABETIC EMERGENCY',\n",
       "       'EMS: BOMB DEVICE FOUND', 'Fire: SYNCOPAL EPISODE',\n",
       "       'EMS: INDUSTRIAL ACCIDENT', 'EMS: DROWNING', 'EMS: SUSPICIOUS',\n",
       "       'Fire: FALL VICTIM', 'EMS: ARMED SUBJECT',\n",
       "       'Fire: CARDIAC EMERGENCY', 'EMS: STANDBY FOR ANOTHER CO',\n",
       "       'EMS: ELECTRICAL FIRE OUTSIDE', 'Fire: UNRESPONSIVE SUBJECT',\n",
       "       'EMS: HIT + RUN', 'EMS: SUICIDE THREAT', 'Fire: DISABLED VEHICLE',\n",
       "       'Fire: ANIMAL COMPLAINT', 'Fire: STANDBY FOR ANOTHER CO',\n",
       "       'EMS: FIRE POLICE NEEDED', 'Fire: PRISONER IN CUSTODY',\n",
       "       'EMS: TRASH/DUMPSTER FIRE', 'Fire: SUSPICIOUS',\n",
       "       'Fire: SUBJECT IN PAIN', 'Fire: RESPIRATORY EMERGENCY',\n",
       "       'Fire: SUICIDE ATTEMPT', 'Fire: NAUSEA/VOMITING',\n",
       "       'Fire: PUBLIC SERVICE', 'Fire: OVERDOSE', 'Fire: HEAD INJURY',\n",
       "       'EMS: BOMB THREAT', 'Fire: GENERAL WEAKNESS',\n",
       "       'Fire: ELEVATOR EMERGENCY', 'EMS: ELEVATOR EMERGENCY',\n",
       "       'Fire: HAZARDOUS ROAD CONDITIONS', 'EMS: PUBLIC SERVICE',\n",
       "       'EMS: VEHICLE LEAKING FUEL', 'Fire: POISONING',\n",
       "       'EMS: POLICE INFORMATION'], dtype=object)"
      ]
     },
     "execution_count": 51,
     "metadata": {},
     "output_type": "execute_result"
    }
   ],
   "source": [
    "data['title'].unique()"
   ]
  },
  {
   "cell_type": "code",
   "execution_count": 52,
   "metadata": {},
   "outputs": [],
   "source": [
    "def call_type_separator(x):\n",
    "    x=x.split(':')\n",
    "    return x[0]"
   ]
  },
  {
   "cell_type": "code",
   "execution_count": 53,
   "metadata": {},
   "outputs": [],
   "source": [
    "data['call_type']=data['title'].apply(call_type_separator)"
   ]
  },
  {
   "cell_type": "code",
   "execution_count": 54,
   "metadata": {},
   "outputs": [
    {
     "data": {
      "text/html": [
       "<div>\n",
       "<style scoped>\n",
       "    .dataframe tbody tr th:only-of-type {\n",
       "        vertical-align: middle;\n",
       "    }\n",
       "\n",
       "    .dataframe tbody tr th {\n",
       "        vertical-align: top;\n",
       "    }\n",
       "\n",
       "    .dataframe thead th {\n",
       "        text-align: right;\n",
       "    }\n",
       "</style>\n",
       "<table border=\"1\" class=\"dataframe\">\n",
       "  <thead>\n",
       "    <tr style=\"text-align: right;\">\n",
       "      <th></th>\n",
       "      <th>lat</th>\n",
       "      <th>lng</th>\n",
       "      <th>desc</th>\n",
       "      <th>zip</th>\n",
       "      <th>title</th>\n",
       "      <th>timeStamp</th>\n",
       "      <th>twp</th>\n",
       "      <th>addr</th>\n",
       "      <th>e</th>\n",
       "      <th>call_type</th>\n",
       "    </tr>\n",
       "  </thead>\n",
       "  <tbody>\n",
       "    <tr>\n",
       "      <th>0</th>\n",
       "      <td>40.297876</td>\n",
       "      <td>-75.581294</td>\n",
       "      <td>REINDEER CT &amp; DEAD END;  NEW HANOVER; Station ...</td>\n",
       "      <td>19525.0</td>\n",
       "      <td>EMS: BACK PAINS/INJURY</td>\n",
       "      <td>2015-12-10 17:10:52</td>\n",
       "      <td>NEW HANOVER</td>\n",
       "      <td>REINDEER CT &amp; DEAD END</td>\n",
       "      <td>1</td>\n",
       "      <td>EMS</td>\n",
       "    </tr>\n",
       "    <tr>\n",
       "      <th>1</th>\n",
       "      <td>40.258061</td>\n",
       "      <td>-75.264680</td>\n",
       "      <td>BRIAR PATH &amp; WHITEMARSH LN;  HATFIELD TOWNSHIP...</td>\n",
       "      <td>19446.0</td>\n",
       "      <td>EMS: DIABETIC EMERGENCY</td>\n",
       "      <td>2015-12-10 17:29:21</td>\n",
       "      <td>HATFIELD TOWNSHIP</td>\n",
       "      <td>BRIAR PATH &amp; WHITEMARSH LN</td>\n",
       "      <td>1</td>\n",
       "      <td>EMS</td>\n",
       "    </tr>\n",
       "    <tr>\n",
       "      <th>2</th>\n",
       "      <td>40.121182</td>\n",
       "      <td>-75.351975</td>\n",
       "      <td>HAWS AVE; NORRISTOWN; 2015-12-10 @ 14:39:21-St...</td>\n",
       "      <td>19401.0</td>\n",
       "      <td>Fire: GAS-ODOR/LEAK</td>\n",
       "      <td>2015-12-10 14:39:21</td>\n",
       "      <td>NORRISTOWN</td>\n",
       "      <td>HAWS AVE</td>\n",
       "      <td>1</td>\n",
       "      <td>Fire</td>\n",
       "    </tr>\n",
       "    <tr>\n",
       "      <th>3</th>\n",
       "      <td>40.116153</td>\n",
       "      <td>-75.343513</td>\n",
       "      <td>AIRY ST &amp; SWEDE ST;  NORRISTOWN; Station 308A;...</td>\n",
       "      <td>19401.0</td>\n",
       "      <td>EMS: CARDIAC EMERGENCY</td>\n",
       "      <td>2015-12-10 16:47:36</td>\n",
       "      <td>NORRISTOWN</td>\n",
       "      <td>AIRY ST &amp; SWEDE ST</td>\n",
       "      <td>1</td>\n",
       "      <td>EMS</td>\n",
       "    </tr>\n",
       "    <tr>\n",
       "      <th>4</th>\n",
       "      <td>40.251492</td>\n",
       "      <td>-75.603350</td>\n",
       "      <td>CHERRYWOOD CT &amp; DEAD END;  LOWER POTTSGROVE; S...</td>\n",
       "      <td>NaN</td>\n",
       "      <td>EMS: DIZZINESS</td>\n",
       "      <td>2015-12-10 16:56:52</td>\n",
       "      <td>LOWER POTTSGROVE</td>\n",
       "      <td>CHERRYWOOD CT &amp; DEAD END</td>\n",
       "      <td>1</td>\n",
       "      <td>EMS</td>\n",
       "    </tr>\n",
       "  </tbody>\n",
       "</table>\n",
       "</div>"
      ],
      "text/plain": [
       "         lat        lng                                               desc  \\\n",
       "0  40.297876 -75.581294  REINDEER CT & DEAD END;  NEW HANOVER; Station ...   \n",
       "1  40.258061 -75.264680  BRIAR PATH & WHITEMARSH LN;  HATFIELD TOWNSHIP...   \n",
       "2  40.121182 -75.351975  HAWS AVE; NORRISTOWN; 2015-12-10 @ 14:39:21-St...   \n",
       "3  40.116153 -75.343513  AIRY ST & SWEDE ST;  NORRISTOWN; Station 308A;...   \n",
       "4  40.251492 -75.603350  CHERRYWOOD CT & DEAD END;  LOWER POTTSGROVE; S...   \n",
       "\n",
       "       zip                    title            timeStamp                twp  \\\n",
       "0  19525.0   EMS: BACK PAINS/INJURY  2015-12-10 17:10:52        NEW HANOVER   \n",
       "1  19446.0  EMS: DIABETIC EMERGENCY  2015-12-10 17:29:21  HATFIELD TOWNSHIP   \n",
       "2  19401.0      Fire: GAS-ODOR/LEAK  2015-12-10 14:39:21         NORRISTOWN   \n",
       "3  19401.0   EMS: CARDIAC EMERGENCY  2015-12-10 16:47:36         NORRISTOWN   \n",
       "4      NaN           EMS: DIZZINESS  2015-12-10 16:56:52   LOWER POTTSGROVE   \n",
       "\n",
       "                         addr  e call_type  \n",
       "0      REINDEER CT & DEAD END  1       EMS  \n",
       "1  BRIAR PATH & WHITEMARSH LN  1       EMS  \n",
       "2                    HAWS AVE  1      Fire  \n",
       "3          AIRY ST & SWEDE ST  1       EMS  \n",
       "4    CHERRYWOOD CT & DEAD END  1       EMS  "
      ]
     },
     "execution_count": 54,
     "metadata": {},
     "output_type": "execute_result"
    }
   ],
   "source": [
    "data.head()"
   ]
  },
  {
   "cell_type": "code",
   "execution_count": 55,
   "metadata": {},
   "outputs": [
    {
     "data": {
      "text/plain": [
       "array(['EMS', 'Fire', 'Traffic'], dtype=object)"
      ]
     },
     "execution_count": 55,
     "metadata": {},
     "output_type": "execute_result"
    }
   ],
   "source": [
    "data['call_type'].unique()"
   ]
  },
  {
   "cell_type": "code",
   "execution_count": 56,
   "metadata": {},
   "outputs": [
    {
     "data": {
      "text/plain": [
       "EMS        208676\n",
       "Traffic    151458\n",
       "Fire        63775\n",
       "Name: call_type, dtype: int64"
      ]
     },
     "execution_count": 56,
     "metadata": {},
     "output_type": "execute_result"
    }
   ],
   "source": [
    "data['call_type'].value_counts()"
   ]
  },
  {
   "cell_type": "code",
   "execution_count": 57,
   "metadata": {},
   "outputs": [],
   "source": [
    "data['timeStamp']=pd.to_datetime(data['timeStamp'],infer_datetime_format=True)"
   ]
  },
  {
   "cell_type": "code",
   "execution_count": 58,
   "metadata": {},
   "outputs": [
    {
     "data": {
      "text/plain": [
       "0   2015-12-10 17:10:52\n",
       "1   2015-12-10 17:29:21\n",
       "2   2015-12-10 14:39:21\n",
       "3   2015-12-10 16:47:36\n",
       "4   2015-12-10 16:56:52\n",
       "Name: timeStamp, dtype: datetime64[ns]"
      ]
     },
     "execution_count": 58,
     "metadata": {},
     "output_type": "execute_result"
    }
   ],
   "source": [
    "data['timeStamp'].head()"
   ]
  },
  {
   "cell_type": "code",
   "execution_count": 59,
   "metadata": {},
   "outputs": [],
   "source": [
    "import datetime as dt"
   ]
  },
  {
   "cell_type": "code",
   "execution_count": 60,
   "metadata": {},
   "outputs": [],
   "source": [
    "data['year']=data['timeStamp'].dt.year"
   ]
  },
  {
   "cell_type": "code",
   "execution_count": 61,
   "metadata": {},
   "outputs": [
    {
     "data": {
      "text/plain": [
       "0         2015\n",
       "1         2015\n",
       "2         2015\n",
       "3         2015\n",
       "4         2015\n",
       "5         2015\n",
       "6         2015\n",
       "7         2015\n",
       "8         2015\n",
       "9         2015\n",
       "10        2015\n",
       "11        2015\n",
       "12        2015\n",
       "13        2015\n",
       "14        2015\n",
       "15        2015\n",
       "16        2015\n",
       "17        2015\n",
       "18        2015\n",
       "19        2015\n",
       "20        2015\n",
       "21        2015\n",
       "22        2015\n",
       "23        2015\n",
       "24        2015\n",
       "25        2015\n",
       "26        2015\n",
       "27        2015\n",
       "28        2015\n",
       "29        2015\n",
       "          ... \n",
       "423879    2018\n",
       "423880    2018\n",
       "423881    2018\n",
       "423882    2018\n",
       "423883    2018\n",
       "423884    2018\n",
       "423885    2018\n",
       "423886    2018\n",
       "423887    2018\n",
       "423888    2018\n",
       "423889    2018\n",
       "423890    2018\n",
       "423891    2018\n",
       "423892    2018\n",
       "423893    2018\n",
       "423894    2018\n",
       "423895    2018\n",
       "423896    2018\n",
       "423897    2018\n",
       "423898    2018\n",
       "423899    2018\n",
       "423900    2018\n",
       "423901    2018\n",
       "423902    2018\n",
       "423903    2018\n",
       "423904    2018\n",
       "423905    2018\n",
       "423906    2018\n",
       "423907    2018\n",
       "423908    2018\n",
       "Name: year, Length: 423909, dtype: int64"
      ]
     },
     "execution_count": 61,
     "metadata": {},
     "output_type": "execute_result"
    }
   ],
   "source": [
    "data['year']"
   ]
  },
  {
   "cell_type": "code",
   "execution_count": 62,
   "metadata": {},
   "outputs": [],
   "source": [
    "data['month']=data['timeStamp'].dt.month_name()"
   ]
  },
  {
   "cell_type": "code",
   "execution_count": 63,
   "metadata": {},
   "outputs": [],
   "source": [
    "data['day']=data['timeStamp'].dt.day_name()"
   ]
  },
  {
   "cell_type": "code",
   "execution_count": 64,
   "metadata": {},
   "outputs": [],
   "source": [
    "data['hour']=data['timeStamp'].dt.hour"
   ]
  },
  {
   "cell_type": "code",
   "execution_count": 65,
   "metadata": {},
   "outputs": [
    {
     "data": {
      "text/html": [
       "<div>\n",
       "<style scoped>\n",
       "    .dataframe tbody tr th:only-of-type {\n",
       "        vertical-align: middle;\n",
       "    }\n",
       "\n",
       "    .dataframe tbody tr th {\n",
       "        vertical-align: top;\n",
       "    }\n",
       "\n",
       "    .dataframe thead th {\n",
       "        text-align: right;\n",
       "    }\n",
       "</style>\n",
       "<table border=\"1\" class=\"dataframe\">\n",
       "  <thead>\n",
       "    <tr style=\"text-align: right;\">\n",
       "      <th></th>\n",
       "      <th>lat</th>\n",
       "      <th>lng</th>\n",
       "      <th>desc</th>\n",
       "      <th>zip</th>\n",
       "      <th>title</th>\n",
       "      <th>timeStamp</th>\n",
       "      <th>twp</th>\n",
       "      <th>addr</th>\n",
       "      <th>e</th>\n",
       "      <th>call_type</th>\n",
       "      <th>year</th>\n",
       "      <th>month</th>\n",
       "      <th>day</th>\n",
       "      <th>hour</th>\n",
       "    </tr>\n",
       "  </thead>\n",
       "  <tbody>\n",
       "    <tr>\n",
       "      <th>0</th>\n",
       "      <td>40.297876</td>\n",
       "      <td>-75.581294</td>\n",
       "      <td>REINDEER CT &amp; DEAD END;  NEW HANOVER; Station ...</td>\n",
       "      <td>19525.0</td>\n",
       "      <td>EMS: BACK PAINS/INJURY</td>\n",
       "      <td>2015-12-10 17:10:52</td>\n",
       "      <td>NEW HANOVER</td>\n",
       "      <td>REINDEER CT &amp; DEAD END</td>\n",
       "      <td>1</td>\n",
       "      <td>EMS</td>\n",
       "      <td>2015</td>\n",
       "      <td>December</td>\n",
       "      <td>Thursday</td>\n",
       "      <td>17</td>\n",
       "    </tr>\n",
       "    <tr>\n",
       "      <th>1</th>\n",
       "      <td>40.258061</td>\n",
       "      <td>-75.264680</td>\n",
       "      <td>BRIAR PATH &amp; WHITEMARSH LN;  HATFIELD TOWNSHIP...</td>\n",
       "      <td>19446.0</td>\n",
       "      <td>EMS: DIABETIC EMERGENCY</td>\n",
       "      <td>2015-12-10 17:29:21</td>\n",
       "      <td>HATFIELD TOWNSHIP</td>\n",
       "      <td>BRIAR PATH &amp; WHITEMARSH LN</td>\n",
       "      <td>1</td>\n",
       "      <td>EMS</td>\n",
       "      <td>2015</td>\n",
       "      <td>December</td>\n",
       "      <td>Thursday</td>\n",
       "      <td>17</td>\n",
       "    </tr>\n",
       "    <tr>\n",
       "      <th>2</th>\n",
       "      <td>40.121182</td>\n",
       "      <td>-75.351975</td>\n",
       "      <td>HAWS AVE; NORRISTOWN; 2015-12-10 @ 14:39:21-St...</td>\n",
       "      <td>19401.0</td>\n",
       "      <td>Fire: GAS-ODOR/LEAK</td>\n",
       "      <td>2015-12-10 14:39:21</td>\n",
       "      <td>NORRISTOWN</td>\n",
       "      <td>HAWS AVE</td>\n",
       "      <td>1</td>\n",
       "      <td>Fire</td>\n",
       "      <td>2015</td>\n",
       "      <td>December</td>\n",
       "      <td>Thursday</td>\n",
       "      <td>14</td>\n",
       "    </tr>\n",
       "    <tr>\n",
       "      <th>3</th>\n",
       "      <td>40.116153</td>\n",
       "      <td>-75.343513</td>\n",
       "      <td>AIRY ST &amp; SWEDE ST;  NORRISTOWN; Station 308A;...</td>\n",
       "      <td>19401.0</td>\n",
       "      <td>EMS: CARDIAC EMERGENCY</td>\n",
       "      <td>2015-12-10 16:47:36</td>\n",
       "      <td>NORRISTOWN</td>\n",
       "      <td>AIRY ST &amp; SWEDE ST</td>\n",
       "      <td>1</td>\n",
       "      <td>EMS</td>\n",
       "      <td>2015</td>\n",
       "      <td>December</td>\n",
       "      <td>Thursday</td>\n",
       "      <td>16</td>\n",
       "    </tr>\n",
       "    <tr>\n",
       "      <th>4</th>\n",
       "      <td>40.251492</td>\n",
       "      <td>-75.603350</td>\n",
       "      <td>CHERRYWOOD CT &amp; DEAD END;  LOWER POTTSGROVE; S...</td>\n",
       "      <td>NaN</td>\n",
       "      <td>EMS: DIZZINESS</td>\n",
       "      <td>2015-12-10 16:56:52</td>\n",
       "      <td>LOWER POTTSGROVE</td>\n",
       "      <td>CHERRYWOOD CT &amp; DEAD END</td>\n",
       "      <td>1</td>\n",
       "      <td>EMS</td>\n",
       "      <td>2015</td>\n",
       "      <td>December</td>\n",
       "      <td>Thursday</td>\n",
       "      <td>16</td>\n",
       "    </tr>\n",
       "  </tbody>\n",
       "</table>\n",
       "</div>"
      ],
      "text/plain": [
       "         lat        lng                                               desc  \\\n",
       "0  40.297876 -75.581294  REINDEER CT & DEAD END;  NEW HANOVER; Station ...   \n",
       "1  40.258061 -75.264680  BRIAR PATH & WHITEMARSH LN;  HATFIELD TOWNSHIP...   \n",
       "2  40.121182 -75.351975  HAWS AVE; NORRISTOWN; 2015-12-10 @ 14:39:21-St...   \n",
       "3  40.116153 -75.343513  AIRY ST & SWEDE ST;  NORRISTOWN; Station 308A;...   \n",
       "4  40.251492 -75.603350  CHERRYWOOD CT & DEAD END;  LOWER POTTSGROVE; S...   \n",
       "\n",
       "       zip                    title           timeStamp                twp  \\\n",
       "0  19525.0   EMS: BACK PAINS/INJURY 2015-12-10 17:10:52        NEW HANOVER   \n",
       "1  19446.0  EMS: DIABETIC EMERGENCY 2015-12-10 17:29:21  HATFIELD TOWNSHIP   \n",
       "2  19401.0      Fire: GAS-ODOR/LEAK 2015-12-10 14:39:21         NORRISTOWN   \n",
       "3  19401.0   EMS: CARDIAC EMERGENCY 2015-12-10 16:47:36         NORRISTOWN   \n",
       "4      NaN           EMS: DIZZINESS 2015-12-10 16:56:52   LOWER POTTSGROVE   \n",
       "\n",
       "                         addr  e call_type  year     month       day  hour  \n",
       "0      REINDEER CT & DEAD END  1       EMS  2015  December  Thursday    17  \n",
       "1  BRIAR PATH & WHITEMARSH LN  1       EMS  2015  December  Thursday    17  \n",
       "2                    HAWS AVE  1      Fire  2015  December  Thursday    14  \n",
       "3          AIRY ST & SWEDE ST  1       EMS  2015  December  Thursday    16  \n",
       "4    CHERRYWOOD CT & DEAD END  1       EMS  2015  December  Thursday    16  "
      ]
     },
     "execution_count": 65,
     "metadata": {},
     "output_type": "execute_result"
    }
   ],
   "source": [
    "data.head()"
   ]
  },
  {
   "cell_type": "code",
   "execution_count": 66,
   "metadata": {},
   "outputs": [],
   "source": [
    "def emergency_type_separator(x):\n",
    "    x= x.split(':')\n",
    "    x=x[1]\n",
    "    return x"
   ]
  },
  {
   "cell_type": "code",
   "execution_count": 67,
   "metadata": {},
   "outputs": [],
   "source": [
    "data['emergency_type']=data['title'].apply(emergency_type_separator)"
   ]
  },
  {
   "cell_type": "code",
   "execution_count": 68,
   "metadata": {},
   "outputs": [
    {
     "data": {
      "text/html": [
       "<div>\n",
       "<style scoped>\n",
       "    .dataframe tbody tr th:only-of-type {\n",
       "        vertical-align: middle;\n",
       "    }\n",
       "\n",
       "    .dataframe tbody tr th {\n",
       "        vertical-align: top;\n",
       "    }\n",
       "\n",
       "    .dataframe thead th {\n",
       "        text-align: right;\n",
       "    }\n",
       "</style>\n",
       "<table border=\"1\" class=\"dataframe\">\n",
       "  <thead>\n",
       "    <tr style=\"text-align: right;\">\n",
       "      <th></th>\n",
       "      <th>lat</th>\n",
       "      <th>lng</th>\n",
       "      <th>desc</th>\n",
       "      <th>zip</th>\n",
       "      <th>title</th>\n",
       "      <th>timeStamp</th>\n",
       "      <th>twp</th>\n",
       "      <th>addr</th>\n",
       "      <th>e</th>\n",
       "      <th>call_type</th>\n",
       "      <th>year</th>\n",
       "      <th>month</th>\n",
       "      <th>day</th>\n",
       "      <th>hour</th>\n",
       "      <th>emergency_type</th>\n",
       "    </tr>\n",
       "  </thead>\n",
       "  <tbody>\n",
       "    <tr>\n",
       "      <th>0</th>\n",
       "      <td>40.297876</td>\n",
       "      <td>-75.581294</td>\n",
       "      <td>REINDEER CT &amp; DEAD END;  NEW HANOVER; Station ...</td>\n",
       "      <td>19525.0</td>\n",
       "      <td>EMS: BACK PAINS/INJURY</td>\n",
       "      <td>2015-12-10 17:10:52</td>\n",
       "      <td>NEW HANOVER</td>\n",
       "      <td>REINDEER CT &amp; DEAD END</td>\n",
       "      <td>1</td>\n",
       "      <td>EMS</td>\n",
       "      <td>2015</td>\n",
       "      <td>December</td>\n",
       "      <td>Thursday</td>\n",
       "      <td>17</td>\n",
       "      <td>BACK PAINS/INJURY</td>\n",
       "    </tr>\n",
       "    <tr>\n",
       "      <th>1</th>\n",
       "      <td>40.258061</td>\n",
       "      <td>-75.264680</td>\n",
       "      <td>BRIAR PATH &amp; WHITEMARSH LN;  HATFIELD TOWNSHIP...</td>\n",
       "      <td>19446.0</td>\n",
       "      <td>EMS: DIABETIC EMERGENCY</td>\n",
       "      <td>2015-12-10 17:29:21</td>\n",
       "      <td>HATFIELD TOWNSHIP</td>\n",
       "      <td>BRIAR PATH &amp; WHITEMARSH LN</td>\n",
       "      <td>1</td>\n",
       "      <td>EMS</td>\n",
       "      <td>2015</td>\n",
       "      <td>December</td>\n",
       "      <td>Thursday</td>\n",
       "      <td>17</td>\n",
       "      <td>DIABETIC EMERGENCY</td>\n",
       "    </tr>\n",
       "  </tbody>\n",
       "</table>\n",
       "</div>"
      ],
      "text/plain": [
       "         lat        lng                                               desc  \\\n",
       "0  40.297876 -75.581294  REINDEER CT & DEAD END;  NEW HANOVER; Station ...   \n",
       "1  40.258061 -75.264680  BRIAR PATH & WHITEMARSH LN;  HATFIELD TOWNSHIP...   \n",
       "\n",
       "       zip                    title           timeStamp                twp  \\\n",
       "0  19525.0   EMS: BACK PAINS/INJURY 2015-12-10 17:10:52        NEW HANOVER   \n",
       "1  19446.0  EMS: DIABETIC EMERGENCY 2015-12-10 17:29:21  HATFIELD TOWNSHIP   \n",
       "\n",
       "                         addr  e call_type  year     month       day  hour  \\\n",
       "0      REINDEER CT & DEAD END  1       EMS  2015  December  Thursday    17   \n",
       "1  BRIAR PATH & WHITEMARSH LN  1       EMS  2015  December  Thursday    17   \n",
       "\n",
       "        emergency_type  \n",
       "0    BACK PAINS/INJURY  \n",
       "1   DIABETIC EMERGENCY  "
      ]
     },
     "execution_count": 68,
     "metadata": {},
     "output_type": "execute_result"
    }
   ],
   "source": [
    "data.head(2)"
   ]
  },
  {
   "cell_type": "code",
   "execution_count": 69,
   "metadata": {},
   "outputs": [
    {
     "data": {
      "text/plain": [
       "EMS        208676\n",
       "Traffic    151458\n",
       "Fire        63775\n",
       "Name: call_type, dtype: int64"
      ]
     },
     "execution_count": 69,
     "metadata": {},
     "output_type": "execute_result"
    }
   ],
   "source": [
    "call_types=data['call_type'].value_counts()\n",
    "call_types"
   ]
  },
  {
   "cell_type": "code",
   "execution_count": 70,
   "metadata": {},
   "outputs": [],
   "source": [
    "from decimal import Decimal"
   ]
  },
  {
   "cell_type": "code",
   "execution_count": 71,
   "metadata": {},
   "outputs": [
    {
     "data": {
      "text/plain": [
       "[]"
      ]
     },
     "execution_count": 71,
     "metadata": {},
     "output_type": "execute_result"
    },
    {
     "data": {
      "image/png": "[encoded data removed]",
      "text/plain": [
       "<Figure size 1080x360 with 1 Axes>"
      ]
     },
     "metadata": {},
     "output_type": "display_data"
    }
   ],
   "source": [
    "plt.figure(figsize=(15,5))\n",
    "ax=call_types.plot.bar()\n",
    "ax.plot()"
   ]
  },
  {
   "cell_type": "code",
   "execution_count": 72,
   "metadata": {},
   "outputs": [
    {
     "name": "stdout",
     "output_type": "stream",
     "text": [
      "<class 'pandas.core.frame.DataFrame'>\n",
      "RangeIndex: 423909 entries, 0 to 423908\n",
      "Data columns (total 15 columns):\n",
      "lat               423909 non-null float64\n",
      "lng               423909 non-null float64\n",
      "desc              423909 non-null object\n",
      "zip               371780 non-null float64\n",
      "title             423909 non-null object\n",
      "timeStamp         423909 non-null datetime64[ns]\n",
      "twp               423750 non-null object\n",
      "addr              423909 non-null object\n",
      "e                 423909 non-null int64\n",
      "call_type         423909 non-null object\n",
      "year              423909 non-null int64\n",
      "month             423909 non-null object\n",
      "day               423909 non-null object\n",
      "hour              423909 non-null int64\n",
      "emergency_type    423909 non-null object\n",
      "dtypes: datetime64[ns](1), float64(3), int64(3), object(8)\n",
      "memory usage: 48.5+ MB\n"
     ]
    }
   ],
   "source": [
    "data.info()"
   ]
  },
  {
   "cell_type": "code",
   "execution_count": 73,
   "metadata": {},
   "outputs": [
    {
     "data": {
      "text/plain": [
       "month   call_type\n",
       "April   EMS          17255\n",
       "        Fire          4983\n",
       "        Traffic      11345\n",
       "August  EMS          17965\n",
       "        Fire          5717\n",
       "Name: call_type, dtype: int64"
      ]
     },
     "execution_count": 73,
     "metadata": {},
     "output_type": "execute_result"
    }
   ],
   "source": [
    "call_data=data.groupby(['month','call_type'])['call_type'].count()\n",
    "call_data.head()"
   ]
  },
  {
   "cell_type": "code",
   "execution_count": 74,
   "metadata": {},
   "outputs": [],
   "source": [
    "calls_data_percentage=call_data.groupby(level=0).apply(lambda x: round(100*x/float(x.sum())))"
   ]
  },
  {
   "cell_type": "code",
   "execution_count": 75,
   "metadata": {},
   "outputs": [
    {
     "data": {
      "text/plain": [
       "month  call_type\n",
       "April  EMS          51.0\n",
       "       Fire         15.0\n",
       "       Traffic      34.0\n",
       "Name: call_type, dtype: float64"
      ]
     },
     "execution_count": 75,
     "metadata": {},
     "output_type": "execute_result"
    }
   ],
   "source": [
    "calls_data_percentage.head(3)"
   ]
  },
  {
   "cell_type": "code",
   "execution_count": 76,
   "metadata": {},
   "outputs": [],
   "source": [
    "font={\n",
    "    'size':'x-large',\n",
    "    'weight':'bold'\n",
    "    \n",
    "}"
   ]
  },
  {
   "cell_type": "code",
   "execution_count": 77,
   "metadata": {},
   "outputs": [],
   "source": [
    "month_order=['january','february','march','april','may','june','july','august','september','october','november','december']"
   ]
  },
  {
   "cell_type": "code",
   "execution_count": 78,
   "metadata": {},
   "outputs": [
    {
     "data": {
      "text/plain": [
       "Text(0.5,1,'Calls/Month')"
      ]
     },
     "execution_count": 78,
     "metadata": {},
     "output_type": "execute_result"
    },
    {
     "data": {
      "image/png": "[encoded data removed]",
      "text/plain": [
       "<Figure size 864x576 with 1 Axes>"
      ]
     },
     "metadata": {},
     "output_type": "display_data"
    }
   ],
   "source": [
    "sns.set(rc={'figure.figsize':(12, 8)})\n",
    "calls_data_percentage.unstack().plot(kind='bar')\n",
    "plt.xlabel('Name of the Month', fontdict=font)\n",
    "plt.ylabel('Percentage of Calls', fontdict=font)\n",
    "plt.xticks(rotation=0)\n",
    "plt.title('Calls/Month', fontdict=font)"
   ]
  },
  {
   "cell_type": "code",
   "execution_count": 79,
   "metadata": {},
   "outputs": [],
   "source": [
    "hours_data=data.groupby(['hour','call_type'])['call_type'].count()"
   ]
  },
  {
   "cell_type": "code",
   "execution_count": 80,
   "metadata": {},
   "outputs": [
    {
     "data": {
      "text/plain": [
       "hour  call_type\n",
       "0     EMS          5263\n",
       "      Fire         1341\n",
       "      Traffic      2046\n",
       "1     EMS          4711\n",
       "      Fire         1104\n",
       "Name: call_type, dtype: int64"
      ]
     },
     "execution_count": 80,
     "metadata": {},
     "output_type": "execute_result"
    }
   ],
   "source": [
    "hours_data.head()"
   ]
  },
  {
   "cell_type": "code",
   "execution_count": 82,
   "metadata": {},
   "outputs": [],
   "source": [
    "hours_data_percentage=hours_data.groupby(level=0).apply(lambda x: round(100*x/float(x.sum())))"
   ]
  },
  {
   "cell_type": "code",
   "execution_count": 83,
   "metadata": {},
   "outputs": [
    {
     "data": {
      "text/plain": [
       "hour  call_type\n",
       "0     EMS          61.0\n",
       "      Fire         16.0\n",
       "      Traffic      24.0\n",
       "1     EMS          64.0\n",
       "      Fire         15.0\n",
       "Name: call_type, dtype: float64"
      ]
     },
     "execution_count": 83,
     "metadata": {},
     "output_type": "execute_result"
    }
   ],
   "source": [
    "hours_data_percentage.head()"
   ]
  },
  {
   "cell_type": "code",
   "execution_count": 84,
   "metadata": {},
   "outputs": [],
   "source": [
    "hours_data_percentage=hours_data_percentage.reindex(['EMS','Traffic','Fire'],level=1)"
   ]
  },
  {
   "cell_type": "code",
   "execution_count": 87,
   "metadata": {},
   "outputs": [
    {
     "data": {
      "text/plain": [
       "Text(0.5,1,'calls per hour')"
      ]
     },
     "execution_count": 87,
     "metadata": {},
     "output_type": "execute_result"
    },
    {
     "data": {
      "image/png": "[encoded data removed]",
      "text/plain": [
       "<Figure size 864x576 with 1 Axes>"
      ]
     },
     "metadata": {},
     "output_type": "display_data"
    }
   ],
   "source": [
    "sns.set(rc={'figure.figsize':(12,8)})\n",
    "hours_data_percentage.unstack().plot(kind='bar')\n",
    "plt.xlabel('hour of the day',fontdict=font)\n",
    "plt.ylabel('percentage of calls',fontdict=font)\n",
    "plt.title('calls per hour',fontdict=font)"
   ]
  },
  {
   "cell_type": "code",
   "execution_count": null,
   "metadata": {},
   "outputs": [],
   "source": []
  }
 ],
 "metadata": {
  "kernelspec": {
   "display_name": "Python 3",
   "language": "python",
   "name": "python3"
  },
  "language_info": {
   "codemirror_mode": {
    "name": "ipython",
    "version": 3
   },
   "file_extension": ".py",
   "mimetype": "text/x-python",
   "name": "python",
   "nbconvert_exporter": "python",
   "pygments_lexer": "ipython3",
   "version": "3.6.5"
  }
 },
 "nbformat": 4,
 "nbformat_minor": 2
}
